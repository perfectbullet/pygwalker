{
 "cells": [
  {
   "cell_type": "code",
   "execution_count": 1,
   "id": "2142be9e-460c-45af-88aa-d356954b0caa",
   "metadata": {},
   "outputs": [],
   "source": [
    "import pygwalker as pyg\n",
    "import pandas as pd"
   ]
  },
  {
   "cell_type": "code",
   "execution_count": 2,
   "id": "7384b136-9098-482d-8914-1663547dc6ae",
   "metadata": {},
   "outputs": [],
   "source": [
    "df = pd.read_csv(\"./bike_sharing_dc.csv\")"
   ]
  },
  {
   "cell_type": "code",
   "execution_count": 3,
   "id": "45cbe3c8-6606-498b-a741-455425798cc9",
   "metadata": {},
   "outputs": [
    {
     "ename": "ImportError",
     "evalue": "gw_dsl_parser is not installed, please install it first. conda users please use `pip` to install it.",
     "output_type": "error",
     "traceback": [
      "\u001b[0;31m---------------------------------------------------------------------------\u001b[0m",
      "\u001b[0;31mModuleNotFoundError\u001b[0m                       Traceback (most recent call last)",
      "File \u001b[0;32m/media/zj/data2-ext4/anaconda3/envs/pygwalker/lib/python3.11/site-packages/pygwalker/utils/payload_to_sql.py:10\u001b[0m, in \u001b[0;36mget_sql_from_payload\u001b[0;34m(table_name, payload, field_meta)\u001b[0m\n\u001b[1;32m      9\u001b[0m \u001b[38;5;28;01mtry\u001b[39;00m:\n\u001b[0;32m---> 10\u001b[0m     \u001b[38;5;28;01mfrom\u001b[39;00m \u001b[38;5;21;01mgw_dsl_parser\u001b[39;00m \u001b[38;5;28;01mimport\u001b[39;00m get_sql_from_payload \u001b[38;5;28;01mas\u001b[39;00m __get_sql_from_payload\n\u001b[1;32m     11\u001b[0m \u001b[38;5;28;01mexcept\u001b[39;00m \u001b[38;5;167;01mImportError\u001b[39;00m \u001b[38;5;28;01mas\u001b[39;00m exc:\n",
      "\u001b[0;31mModuleNotFoundError\u001b[0m: No module named 'gw_dsl_parser'",
      "\nThe above exception was the direct cause of the following exception:\n",
      "\u001b[0;31mImportError\u001b[0m                               Traceback (most recent call last)",
      "File \u001b[0;32m/media/zj/data2-ext4/anaconda3/envs/pygwalker/lib/python3.11/site-packages/IPython/core/formatters.py:347\u001b[0m, in \u001b[0;36mBaseFormatter.__call__\u001b[0;34m(self, obj)\u001b[0m\n\u001b[1;32m    345\u001b[0m     method \u001b[38;5;241m=\u001b[39m get_real_method(obj, \u001b[38;5;28mself\u001b[39m\u001b[38;5;241m.\u001b[39mprint_method)\n\u001b[1;32m    346\u001b[0m     \u001b[38;5;28;01mif\u001b[39;00m method \u001b[38;5;129;01mis\u001b[39;00m \u001b[38;5;129;01mnot\u001b[39;00m \u001b[38;5;28;01mNone\u001b[39;00m:\n\u001b[0;32m--> 347\u001b[0m         \u001b[38;5;28;01mreturn\u001b[39;00m \u001b[43mmethod\u001b[49m\u001b[43m(\u001b[49m\u001b[43m)\u001b[49m\n\u001b[1;32m    348\u001b[0m     \u001b[38;5;28;01mreturn\u001b[39;00m \u001b[38;5;28;01mNone\u001b[39;00m\n\u001b[1;32m    349\u001b[0m \u001b[38;5;28;01melse\u001b[39;00m:\n",
      "File \u001b[0;32m/media/zj/data2-ext4/anaconda3/envs/pygwalker/lib/python3.11/site-packages/pygwalker/api/component.py:184\u001b[0m, in \u001b[0;36mComponent._repr_html_\u001b[0;34m(self)\u001b[0m\n\u001b[1;32m    183\u001b[0m \u001b[38;5;28;01mdef\u001b[39;00m \u001b[38;5;21m_repr_html_\u001b[39m(\u001b[38;5;28mself\u001b[39m) \u001b[38;5;241m-\u001b[39m\u001b[38;5;241m>\u001b[39m \u001b[38;5;28mstr\u001b[39m:\n\u001b[0;32m--> 184\u001b[0m     \u001b[38;5;28;01mreturn\u001b[39;00m \u001b[38;5;28;43mself\u001b[39;49m\u001b[38;5;241;43m.\u001b[39;49m\u001b[43mto_html\u001b[49m\u001b[43m(\u001b[49m\u001b[43m)\u001b[49m\n",
      "File \u001b[0;32m/media/zj/data2-ext4/anaconda3/envs/pygwalker/lib/python3.11/site-packages/pygwalker/api/component.py:188\u001b[0m, in \u001b[0;36mComponent.to_html\u001b[0;34m(self)\u001b[0m\n\u001b[1;32m    186\u001b[0m \u001b[38;5;28;01mdef\u001b[39;00m \u001b[38;5;21mto_html\u001b[39m(\u001b[38;5;28mself\u001b[39m) \u001b[38;5;241m-\u001b[39m\u001b[38;5;241m>\u001b[39m \u001b[38;5;28mstr\u001b[39m:\n\u001b[1;32m    187\u001b[0m     \u001b[38;5;28;01mif\u001b[39;00m \u001b[38;5;28mself\u001b[39m\u001b[38;5;241m.\u001b[39m_render_type \u001b[38;5;241m==\u001b[39m \u001b[38;5;124m\"\u001b[39m\u001b[38;5;124mpure_chart\u001b[39m\u001b[38;5;124m\"\u001b[39m:\n\u001b[0;32m--> 188\u001b[0m         \u001b[38;5;28;01mreturn\u001b[39;00m \u001b[38;5;28;43mself\u001b[39;49m\u001b[38;5;241;43m.\u001b[39;49m\u001b[43m_get_single_chart_html\u001b[49m\u001b[43m(\u001b[49m\u001b[43m)\u001b[49m\n\u001b[1;32m    189\u001b[0m     \u001b[38;5;28;01mif\u001b[39;00m \u001b[38;5;28mself\u001b[39m\u001b[38;5;241m.\u001b[39m_render_type \u001b[38;5;241m==\u001b[39m \u001b[38;5;124m\"\u001b[39m\u001b[38;5;124mexplorer\u001b[39m\u001b[38;5;124m\"\u001b[39m:\n\u001b[1;32m    190\u001b[0m         \u001b[38;5;28;01mreturn\u001b[39;00m \u001b[38;5;28mself\u001b[39m\u001b[38;5;241m.\u001b[39m_get_explorer_html()\n",
      "File \u001b[0;32m/media/zj/data2-ext4/anaconda3/envs/pygwalker/lib/python3.11/site-packages/pygwalker/api/component.py:196\u001b[0m, in \u001b[0;36mComponent._get_single_chart_html\u001b[0;34m(self)\u001b[0m\n\u001b[1;32m    195\u001b[0m \u001b[38;5;28;01mdef\u001b[39;00m \u001b[38;5;21m_get_single_chart_html\u001b[39m(\u001b[38;5;28mself\u001b[39m) \u001b[38;5;241m-\u001b[39m\u001b[38;5;241m>\u001b[39m \u001b[38;5;28mstr\u001b[39m:\n\u001b[0;32m--> 196\u001b[0m     \u001b[38;5;28;01mreturn\u001b[39;00m \u001b[38;5;28;43mself\u001b[39;49m\u001b[38;5;241;43m.\u001b[39;49m\u001b[43mwalker\u001b[49m\u001b[38;5;241;43m.\u001b[39;49m\u001b[43mget_single_chart_html_by_spec\u001b[49m\u001b[43m(\u001b[49m\u001b[43mspec\u001b[49m\u001b[38;5;241;43m=\u001b[39;49m\u001b[38;5;28;43mself\u001b[39;49m\u001b[38;5;241;43m.\u001b[39;49m\u001b[43m_single_chart_spec\u001b[49m\u001b[43m)\u001b[49m\n",
      "File \u001b[0;32m/media/zj/data2-ext4/anaconda3/envs/pygwalker/lib/python3.11/site-packages/pygwalker/api/pygwalker.py:334\u001b[0m, in \u001b[0;36mPygWalker.get_single_chart_html_by_spec\u001b[0;34m(self, spec, title, desc)\u001b[0m\n\u001b[1;32m    332\u001b[0m \u001b[38;5;28;01mfrom\u001b[39;00m \u001b[38;5;21;01mpygwalker\u001b[39;00m\u001b[38;5;21;01m.\u001b[39;00m\u001b[38;5;21;01mutils\u001b[39;00m\u001b[38;5;21;01m.\u001b[39;00m\u001b[38;5;21;01mdsl_transform\u001b[39;00m \u001b[38;5;28;01mimport\u001b[39;00m dsl_to_workflow\n\u001b[1;32m    333\u001b[0m workflow \u001b[38;5;241m=\u001b[39m dsl_to_workflow(spec)\n\u001b[0;32m--> 334\u001b[0m data \u001b[38;5;241m=\u001b[39m \u001b[38;5;28;43mself\u001b[39;49m\u001b[38;5;241;43m.\u001b[39;49m\u001b[43mdata_parser\u001b[49m\u001b[38;5;241;43m.\u001b[39;49m\u001b[43mget_datas_by_payload\u001b[49m\u001b[43m(\u001b[49m\u001b[43mworkflow\u001b[49m\u001b[43m)\u001b[49m\n\u001b[1;32m    335\u001b[0m \u001b[38;5;28;01mreturn\u001b[39;00m render_gw_chart_preview_html(\n\u001b[1;32m    336\u001b[0m     single_vis_spec\u001b[38;5;241m=\u001b[39mspec,\n\u001b[1;32m    337\u001b[0m     data\u001b[38;5;241m=\u001b[39mdata,\n\u001b[0;32m   (...)\u001b[0m\n\u001b[1;32m    341\u001b[0m     appearance\u001b[38;5;241m=\u001b[39m\u001b[38;5;28mself\u001b[39m\u001b[38;5;241m.\u001b[39mappearance\n\u001b[1;32m    342\u001b[0m )\n",
      "File \u001b[0;32m/media/zj/data2-ext4/anaconda3/envs/pygwalker/lib/python3.11/site-packages/pygwalker/data_parsers/base.py:196\u001b[0m, in \u001b[0;36mBaseDataFrameDataParser.get_datas_by_payload\u001b[0;34m(self, payload)\u001b[0m\n\u001b[1;32m    195\u001b[0m \u001b[38;5;28;01mdef\u001b[39;00m \u001b[38;5;21mget_datas_by_payload\u001b[39m(\u001b[38;5;28mself\u001b[39m, payload: Dict[\u001b[38;5;28mstr\u001b[39m, Any]) \u001b[38;5;241m-\u001b[39m\u001b[38;5;241m>\u001b[39m List[Dict[\u001b[38;5;28mstr\u001b[39m, Any]]:\n\u001b[0;32m--> 196\u001b[0m     sql \u001b[38;5;241m=\u001b[39m \u001b[43mget_sql_from_payload\u001b[49m\u001b[43m(\u001b[49m\n\u001b[1;32m    197\u001b[0m \u001b[43m        \u001b[49m\u001b[38;5;124;43m\"\u001b[39;49m\u001b[38;5;124;43mpygwalker_mid_table\u001b[39;49m\u001b[38;5;124;43m\"\u001b[39;49m\u001b[43m,\u001b[49m\n\u001b[1;32m    198\u001b[0m \u001b[43m        \u001b[49m\u001b[43mpayload\u001b[49m\u001b[43m,\u001b[49m\n\u001b[1;32m    199\u001b[0m \u001b[43m        \u001b[49m\u001b[43m{\u001b[49m\u001b[38;5;124;43m\"\u001b[39;49m\u001b[38;5;124;43mpygwalker_mid_table\u001b[39;49m\u001b[38;5;124;43m\"\u001b[39;49m\u001b[43m:\u001b[49m\u001b[43m \u001b[49m\u001b[38;5;28;43mself\u001b[39;49m\u001b[38;5;241;43m.\u001b[39;49m\u001b[43mfield_metas\u001b[49m\u001b[43m}\u001b[49m\n\u001b[1;32m    200\u001b[0m \u001b[43m    \u001b[49m\u001b[43m)\u001b[49m\n\u001b[1;32m    201\u001b[0m     \u001b[38;5;28;01mreturn\u001b[39;00m \u001b[38;5;28mself\u001b[39m\u001b[38;5;241m.\u001b[39mget_datas_by_sql(sql)\n",
      "File \u001b[0;32m/media/zj/data2-ext4/anaconda3/envs/pygwalker/lib/python3.11/site-packages/pygwalker/utils/payload_to_sql.py:12\u001b[0m, in \u001b[0;36mget_sql_from_payload\u001b[0;34m(table_name, payload, field_meta)\u001b[0m\n\u001b[1;32m     10\u001b[0m     \u001b[38;5;28;01mfrom\u001b[39;00m \u001b[38;5;21;01mgw_dsl_parser\u001b[39;00m \u001b[38;5;28;01mimport\u001b[39;00m get_sql_from_payload \u001b[38;5;28;01mas\u001b[39;00m __get_sql_from_payload\n\u001b[1;32m     11\u001b[0m \u001b[38;5;28;01mexcept\u001b[39;00m \u001b[38;5;167;01mImportError\u001b[39;00m \u001b[38;5;28;01mas\u001b[39;00m exc:\n\u001b[0;32m---> 12\u001b[0m     \u001b[38;5;28;01mraise\u001b[39;00m \u001b[38;5;167;01mImportError\u001b[39;00m(\u001b[38;5;124m\"\u001b[39m\u001b[38;5;124mgw_dsl_parser is not installed, please install it first. conda users please use `pip` to install it.\u001b[39m\u001b[38;5;124m\"\u001b[39m) \u001b[38;5;28;01mfrom\u001b[39;00m \u001b[38;5;21;01mexc\u001b[39;00m\n\u001b[1;32m     14\u001b[0m sql \u001b[38;5;241m=\u001b[39m __get_sql_from_payload(\n\u001b[1;32m     15\u001b[0m     table_name,\n\u001b[1;32m     16\u001b[0m     payload,\n\u001b[1;32m     17\u001b[0m     field_meta\n\u001b[1;32m     18\u001b[0m )\n\u001b[1;32m     19\u001b[0m \u001b[38;5;28;01mreturn\u001b[39;00m sql\n",
      "\u001b[0;31mImportError\u001b[0m: gw_dsl_parser is not installed, please install it first. conda users please use `pip` to install it."
     ]
    },
    {
     "data": {
      "text/plain": [
       "<pygwalker.api.component.Component at 0x7a1e9b08df10>"
      ]
     },
     "execution_count": 3,
     "metadata": {},
     "output_type": "execute_result"
    }
   ],
   "source": [
    "pyg.component(df).bar().encode(x=\"season\", y=\"sum(casual)\")"
   ]
  },
  {
   "cell_type": "code",
   "execution_count": null,
   "id": "cf5f40ff-a2ed-44c6-9f85-d633b75fa020",
   "metadata": {},
   "outputs": [],
   "source": [
    "component = pyg.component(df)\n",
    "component_0 = component.encode(x=\"season\", y=\"sum(casual)\")"
   ]
  },
  {
   "cell_type": "code",
   "execution_count": null,
   "id": "a98cf2a9-5286-4f4a-9279-d51a69d166bb",
   "metadata": {},
   "outputs": [],
   "source": [
    "component_0.bar()"
   ]
  },
  {
   "cell_type": "code",
   "execution_count": null,
   "id": "d81d0c87-4c6f-42f8-8d22-8b32fc61384f",
   "metadata": {},
   "outputs": [],
   "source": [
    "component_0.area()"
   ]
  },
  {
   "cell_type": "code",
   "execution_count": null,
   "id": "b5f1b05a-4b43-4f73-9558-1ce2edae81a3",
   "metadata": {},
   "outputs": [],
   "source": [
    "component_0.line()"
   ]
  },
  {
   "cell_type": "code",
   "execution_count": null,
   "id": "9d8f9721-688f-4ade-aaaa-577be9bda56a",
   "metadata": {},
   "outputs": [],
   "source": [
    "component_0.trail()"
   ]
  },
  {
   "cell_type": "code",
   "execution_count": null,
   "id": "901ecec4-cddc-4b74-afac-c82a7c52e98e",
   "metadata": {},
   "outputs": [],
   "source": [
    "component.scatter().encode(x=\"feeling_temp\", y=\"temperature\", color=\"humidity\")"
   ]
  },
  {
   "cell_type": "code",
   "execution_count": null,
   "id": "98bb748f-0aaf-4b43-acbe-0524eafe10af",
   "metadata": {},
   "outputs": [],
   "source": [
    "component.circle().encode(x=\"feeling_temp\", y=\"temperature\", color=\"humidity\")"
   ]
  },
  {
   "cell_type": "code",
   "execution_count": null,
   "id": "80c52a23-b3e3-4957-860f-21dd80b6ef47",
   "metadata": {},
   "outputs": [],
   "source": [
    "(\n",
    "component\n",
    " .rect()\n",
    " .encode(x='bin(\"feeling_temp\", 6)', y='bin(\"temperature\", 6)', color=\"MEAN(humidity)\")\n",
    " .layout(height=400, width=460)\n",
    ")"
   ]
  },
  {
   "cell_type": "code",
   "execution_count": null,
   "id": "4cbf2edb-8bef-4190-986f-62b48517e7f4",
   "metadata": {},
   "outputs": [],
   "source": [
    "component.arc().encode(theta=\"SUM(registered)\", color=\"season\")"
   ]
  },
  {
   "cell_type": "code",
   "execution_count": null,
   "id": "f622848b-6122-4ee4-a7b1-d8521520b63f",
   "metadata": {},
   "outputs": [],
   "source": [
    "component_0.bar().explorer()"
   ]
  },
  {
   "cell_type": "code",
   "execution_count": null,
   "id": "aafdd3b4-6819-480f-9c34-70c8d1aa410e",
   "metadata": {},
   "outputs": [],
   "source": [
    "component_0.profiling()"
   ]
  },
  {
   "cell_type": "code",
   "execution_count": null,
   "id": "bff819f3-209d-4a78-b723-103b70dfb2a5",
   "metadata": {},
   "outputs": [],
   "source": []
  }
 ],
 "metadata": {
  "kernelspec": {
   "display_name": "Python 3 (ipykernel)",
   "language": "python",
   "name": "python3"
  },
  "language_info": {
   "codemirror_mode": {
    "name": "ipython",
    "version": 3
   },
   "file_extension": ".py",
   "mimetype": "text/x-python",
   "name": "python",
   "nbconvert_exporter": "python",
   "pygments_lexer": "ipython3",
   "version": "3.11.10"
  }
 },
 "nbformat": 4,
 "nbformat_minor": 5
}
